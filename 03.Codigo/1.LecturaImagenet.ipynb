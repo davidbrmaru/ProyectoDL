{
 "cells": [
  {
   "cell_type": "markdown",
   "metadata": {},
   "source": [
    "## Descargamos tiny-imagenet-200"
   ]
  },
  {
   "cell_type": "code",
   "execution_count": 1,
   "metadata": {},
   "outputs": [],
   "source": [
    "## Importamos las librerias necesarias\n",
    "import time\n",
    "import scipy.ndimage as nd\n",
    "import matplotlib.pyplot as ppl\n",
    "import numpy as np\n",
    "#pip install opencv-python\n",
    "import cv2 as cv\n",
    "import six\n",
    "from pathlib import Path"
   ]
  },
  {
   "cell_type": "markdown",
   "metadata": {},
   "source": [
    "## Obtenemos Tiny Imagenet"
   ]
  },
  {
   "cell_type": "code",
   "execution_count": 3,
   "metadata": {},
   "outputs": [],
   "source": [
    "## Ruta donde se encuentra el Tini Imagenet descargado de la fuente oficial\n",
    "path = 'M:\\\\Maestria\\\\Ciclo2\\\\Tecnicas de Data Mining\\\\Proyecto\\\\01.Dataset\\\\tiny-imagenet-200\\\\'\n",
    "\n",
    "def get_id_dictionary():\n",
    "    id_dict = {}\n",
    "    for i, line in enumerate(open( path + 'wnids.txt', 'r')):\n",
    "        id_dict[line.replace('\\n', '')] = i\n",
    "    return id_dict\n",
    "  \n",
    "def get_class_to_id_dict():\n",
    "    id_dict = get_id_dictionary()\n",
    "    all_classes = {}\n",
    "    result = {}\n",
    "    for i, line in enumerate(open( path + 'words.txt', 'r')):\n",
    "        n_id, word = line.split('\\t')[:2]\n",
    "        all_classes[n_id] = word\n",
    "    for key, value in id_dict.items():\n",
    "        result[value] = (key, all_classes[key])      \n",
    "    return result\n",
    "\n",
    "def get_data(id_dict):\n",
    "    print('starting loading data')\n",
    "    train_data, test_data = [], []\n",
    "    train_labels, test_labels = [], []\n",
    "    t = time.time()\n",
    "    for key, value in id_dict.items():\n",
    "##        train_data += [ppl.imread( path + 'train/{}/images/{}_{}.JPEG'.format(key, key, str(i))) for i in range(500)]\n",
    "        train_data += [cv.imread( path + 'train/{}/images/{}_{}.JPEG'.format(key, key, str(i)), 1) for i in range(500)]\n",
    "        train_labels_ = np.array([[0]*200]*500)\n",
    "        train_labels_[:, value] = 1\n",
    "        train_labels += train_labels_.tolist()\n",
    "\n",
    "    for line in open( path + 'val/val_annotations.txt'):\n",
    "        img_name, class_id = line.split('\\t')[:2]\n",
    "##        test_data.append(ppl.imread( path + 'val/images/{}'.format(img_name) ))\n",
    "        test_data.append(cv.imread( path + 'val/images/{}'.format(img_name) ,1))\n",
    "        test_labels_ = np.array([[0]*200])\n",
    "        test_labels_[0, id_dict[class_id]] = 1\n",
    "        test_labels += test_labels_.tolist()\n",
    "\n",
    "    print('finished loading data, in {} seconds'.format(time.time() - t))\n",
    "    return np.array(train_data), np.array(train_labels), np.array(test_data), np.array(test_labels)\n",
    "  \n"
   ]
  },
  {
   "cell_type": "code",
   "execution_count": 5,
   "metadata": {},
   "outputs": [
    {
     "name": "stdout",
     "output_type": "stream",
     "text": [
      "starting loading data\n",
      "finished loading data, in 1542.0458352565765 seconds\n",
      "train data shape:  (100000, 64, 64, 3)\n",
      "train label shape:  (100000, 200)\n",
      "test data shape:  (10000, 64, 64, 3)\n",
      "test_labels.shape:  (10000, 200)\n"
     ]
    }
   ],
   "source": [
    "## Obtenemos el dataset a utilizar\n",
    "train_data, train_labels, test_data, test_labels = get_data(get_id_dictionary())\n",
    "labels = get_class_to_id_dict()\n",
    "\n",
    "print( \"train data shape: \",  train_data.shape )\n",
    "print( \"train label shape: \", train_labels.shape )\n",
    "print( \"test data shape: \",   test_data.shape )\n",
    "print( \"test_labels.shape: \", test_labels.shape )\n",
    "#print( \"labels.shape: \", labels.shape )"
   ]
  },
  {
   "cell_type": "markdown",
   "metadata": {},
   "source": [
    "## Lo guardamos como archivos locales para no volver a realizar la extraccion"
   ]
  },
  {
   "cell_type": "code",
   "execution_count": 20,
   "metadata": {},
   "outputs": [],
   "source": [
    "path = os.path.abspath(os.getcwd())+'\\\\resultados\\\\'\n",
    " # Guardamos los datos para su uso en el modelo\n",
    "np.save(path+'train_data', train_data)\n",
    "np.save(path+'train_labels', train_labels)\n",
    "np.save(path+'test_data', test_data)\n",
    "np.save(path+'test_labels', test_labels)\n",
    "np.save(path+'labels', labels)"
   ]
  },
  {
   "cell_type": "markdown",
   "metadata": {},
   "source": [
    "## Modelo de descarga del dataset de los archivos locales"
   ]
  },
  {
   "cell_type": "code",
   "execution_count": 2,
   "metadata": {},
   "outputs": [],
   "source": [
    "path = os.path.abspath(os.getcwd())+'\\\\resultados\\\\'\n",
    "\n",
    "# Guardamos la configuracion del NumPy np.load\n",
    "np_load_old = np.load\n",
    "\n",
    "# Modificamos un parametro del np.load por defecto que no permitia realizar la descarga\n",
    "np.load = lambda *a,**k: np_load_old(*a, allow_pickle=True, **k)\n",
    "\n",
    "train_data = np.load(path+'train_data.npy')\n",
    "train_labels = np.load(path+'train_labels.npy')\n",
    "test_data = np.load(path+'test_data.npy')\n",
    "test_labels = np.load(path+'test_labels.npy')\n",
    "labels = np.load(path+'labels.npy')\n",
    "\n",
    "# Restauramo np.load para su futuro uso regular\n",
    "np.load = np_load_old"
   ]
  },
  {
   "cell_type": "code",
   "execution_count": 4,
   "metadata": {},
   "outputs": [],
   "source": [
    "labels = get_class_to_id_dict()"
   ]
  },
  {
   "cell_type": "code",
   "execution_count": 8,
   "metadata": {},
   "outputs": [
    {
     "data": {
      "text/plain": [
       "('n07749582', 'lemon\\n')"
      ]
     },
     "execution_count": 8,
     "metadata": {},
     "output_type": "execute_result"
    }
   ],
   "source": [
    "labels[4]"
   ]
  },
  {
   "cell_type": "code",
   "execution_count": 9,
   "metadata": {},
   "outputs": [
    {
     "name": "stdout",
     "output_type": "stream",
     "text": [
      "train data shape:  (100000, 64, 64, 3)\n",
      "train label shape:  (100000, 200)\n",
      "test data shape:  (10000, 64, 64, 3)\n",
      "test_labels.shape:  (10000, 200)\n"
     ]
    }
   ],
   "source": [
    "##Validamos tamaños\n",
    "print( \"train data shape: \",  train_data.shape )\n",
    "print( \"train label shape: \", train_labels.shape )\n",
    "print( \"test data shape: \",   test_data.shape )\n",
    "print( \"test_labels.shape: \", test_labels.shape )"
   ]
  }
 ],
 "metadata": {
  "interpreter": {
   "hash": "177d8239e307f16af34671b7e9f9aae09804dd21ab67599d7b4aa54ca31a5bc0"
  },
  "kernelspec": {
   "display_name": "Python 3.8.10 64-bit",
   "language": "python",
   "name": "python3"
  },
  "language_info": {
   "codemirror_mode": {
    "name": "ipython",
    "version": 3
   },
   "file_extension": ".py",
   "mimetype": "text/x-python",
   "name": "python",
   "nbconvert_exporter": "python",
   "pygments_lexer": "ipython3",
   "version": "3.9.7"
  },
  "orig_nbformat": 4
 },
 "nbformat": 4,
 "nbformat_minor": 2
}
