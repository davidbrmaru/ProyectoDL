{
 "cells": [
  {
   "cell_type": "code",
   "execution_count": 14,
   "metadata": {},
   "outputs": [],
   "source": [
    "import os\n",
    "import numpy as np\n",
    "\n",
    "import matplotlib.pyplot as plt\n",
    "from tensorflow.keras import backend as K\n",
    "import tensorflow as tf"
   ]
  },
  {
   "cell_type": "code",
   "execution_count": 15,
   "metadata": {},
   "outputs": [],
   "source": [
    "path = os.path.abspath(os.getcwd())+'\\\\resultados\\\\'\n",
    "\n",
    "# Guardamos la configuracion del NumPy np.load\n",
    "np_load_old = np.load\n",
    "\n",
    "# Modificamos un parametro del np.load por defecto que no permitia realizar la descarga\n",
    "np.load = lambda *a,**k: np_load_old(*a, allow_pickle=True, **k)\n",
    "\n",
    "train_data = np.load(path+'train_data.npy')\n",
    "train_labels = np.load(path+'train_labels.npy')\n",
    "test_data = np.load(path+'test_data.npy')\n",
    "test_labels = np.load(path+'test_labels.npy')\n",
    "labels = np.load(path+'labels.npy')\n",
    "\n",
    "# Restauramo np.load para su futuro uso regular\n",
    "np.load = np_load_old"
   ]
  },
  {
   "cell_type": "code",
   "execution_count": 24,
   "metadata": {},
   "outputs": [
    {
     "data": {
      "image/png": "[encoded data removed]",
      "text/plain": [
       "<Figure size 432x288 with 1 Axes>"
      ]
     },
     "metadata": {
      "needs_background": "light"
     },
     "output_type": "display_data"
    }
   ],
   "source": [
    "# Veamos una muestra\n",
    "plt.imshow(train_data[2]);"
   ]
  },
  {
   "cell_type": "code",
   "execution_count": 4,
   "metadata": {},
   "outputs": [],
   "source": [
    "bs = 200\n",
    "nb_classes = 200\n",
    "nb_epoch = 10\n",
    "\n",
    "# input image dimensions\n",
    "img_rows, img_cols = 64, 64\n",
    "# The images are RGB\n",
    "img_channels = 3\n",
    "\n",
    "input_shape = (img_rows, img_cols, img_channels)\n",
    "\n",
    "# The data, shuffled and split between train and test sets:\n",
    "X_train = train_data\n",
    "Y_train = train_labels\n",
    "X_test = test_data\n",
    "Y_test = test_labels\n",
    "del train_data\n",
    "del train_labels\n",
    "del test_data\n",
    "del test_labels\n",
    "X_train = X_train.astype('float32')\n",
    "X_test = X_test.astype('float32')\n",
    "\n",
    "# subtract mean and normalize\n",
    "mean_image = np.mean(X_train, axis=0)\n",
    "X_train -= mean_image\n",
    "X_test -= mean_image\n",
    "X_train /= 128.\n",
    "X_test /= 128."
   ]
  },
  {
   "cell_type": "code",
   "execution_count": 5,
   "metadata": {},
   "outputs": [],
   "source": [
    "from tensorflow.keras.models import Model\n",
    "from tensorflow.keras.layers import Input, Conv2D, MaxPool2D, ReLU, Flatten, Dense\n",
    "from tensorflow.keras.optimizers import SGD\n",
    "\n",
    "def create_model():\n",
    "  K.clear_session()\n",
    "\n",
    "  input_layer = Input(shape=(64, 64, 3))\n",
    "  convolutional_1 = Conv2D(16, kernel_size=3, padding=\"same\")(input_layer)\n",
    "  max_pooling_1 = MaxPool2D(2)(convolutional_1)\n",
    "  relu_1 = ReLU()(max_pooling_1)\n",
    "  convolutional_2 = Conv2D(32, kernel_size=3, padding=\"same\")(relu_1)\n",
    "  max_pooling_2 = MaxPool2D(2)(convolutional_2)\n",
    "  relu_2 = ReLU()(max_pooling_2)\n",
    "  convolutional_3 = Conv2D(64, kernel_size=3)(relu_2)\n",
    "  relu_3 = ReLU()(convolutional_3)\n",
    "  flatten = Flatten()(relu_3)\n",
    "  dense = Dense(256, activation=\"relu\")(flatten)\n",
    "  output_layer = Dense(200, activation=\"softmax\")(dense)\n",
    "\n",
    "  model = Model(inputs=input_layer, outputs=output_layer)\n",
    "\n",
    "  return model"
   ]
  },
  {
   "cell_type": "code",
   "execution_count": 6,
   "metadata": {},
   "outputs": [],
   "source": [
    "def show_results(log):\n",
    "  val_loss = log.history['val_loss']\n",
    "  val_acc = log.history['val_accuracy']\n",
    "      \n",
    "  fig, axes = plt.subplots(1, 2, figsize=(14,4))\n",
    "  ax1, ax2 = axes\n",
    "  ax1.plot(log.history['loss'], label='train')\n",
    "  ax1.plot(val_loss, label='test')\n",
    "  ax1.set_xlabel('epoch'); ax1.set_ylabel('loss')\n",
    "  ax2.plot(log.history['accuracy'], label='train')\n",
    "  ax2.plot(val_acc, label='test')\n",
    "  ax2.set_xlabel('epoch'); ax2.set_ylabel('accuracy')\n",
    "  for ax in axes: ax.legend()"
   ]
  },
  {
   "cell_type": "code",
   "execution_count": 7,
   "metadata": {},
   "outputs": [],
   "source": [
    "from tensorflow.keras.callbacks import ModelCheckpoint\n",
    "\n",
    "checkpoint_path = \"models/model\"\n",
    "\n",
    "monitor = \"val_accuracy\"\n",
    "\n",
    "mode = \"max\"\n",
    "\n",
    "model_checkpoint = ModelCheckpoint(checkpoint_path, monitor=monitor, verbose=1, save_best_only=True, save_weights_only=True, mode=mode)"
   ]
  },
  {
   "cell_type": "code",
   "execution_count": 8,
   "metadata": {},
   "outputs": [],
   "source": [
    "lr = 0.001\n",
    "momentum = 0.9\n",
    "\n",
    "model = create_model()\n",
    "\n",
    "model.compile(optimizer=SGD(learning_rate=lr, momentum=momentum), loss='categorical_crossentropy', metrics=['accuracy'])\n",
    "# La función de pérdida 'sparse_categorical_crossentropy' realiza automaticamente la conversión\n",
    "# del target a one-hot encoding."
   ]
  },
  {
   "cell_type": "markdown",
   "metadata": {},
   "source": [
    "## Agregamos un canal a los datos"
   ]
  },
  {
   "cell_type": "code",
   "execution_count": 9,
   "metadata": {},
   "outputs": [
    {
     "name": "stdout",
     "output_type": "stream",
     "text": [
      "train data shape:  (100000, 64, 64, 3)\n",
      "train label shape:  (100000, 200)\n",
      "test data shape:  (10000, 64, 64, 3)\n",
      "test_labels.shape:  (10000, 200)\n"
     ]
    }
   ],
   "source": [
    "X_train = X_train.reshape((-1, 64, 64, 3))\n",
    "X_test = X_test.reshape((-1, 64, 64, 3))\n",
    "\n",
    "# Validamos el tamaño del dataset\n",
    "print( \"train data shape: \",  X_train.shape )\n",
    "print( \"train label shape: \", Y_train.shape )\n",
    "print( \"test data shape: \",   X_test.shape )\n",
    "print( \"test_labels.shape: \", Y_test.shape )"
   ]
  },
  {
   "cell_type": "code",
   "execution_count": 10,
   "metadata": {},
   "outputs": [],
   "source": [
    "\n",
    "dataset_train = tf.data.Dataset.from_tensor_slices((X_train, Y_train))\n",
    "\n",
    "dataset_train = dataset_train.shuffle(buffer_size=100).batch(bs).prefetch(50)"
   ]
  },
  {
   "cell_type": "code",
   "execution_count": 11,
   "metadata": {},
   "outputs": [],
   "source": [
    "dataset_test = tf.data.Dataset.from_tensor_slices((X_test, Y_test))\n",
    "\n",
    "dataset_test = dataset_test.batch(bs).prefetch(50)"
   ]
  },
  {
   "cell_type": "code",
   "execution_count": 12,
   "metadata": {},
   "outputs": [
    {
     "name": "stdout",
     "output_type": "stream",
     "text": [
      "Epoch 1/20\n",
      "500/500 [==============================] - ETA: 0s - loss: 5.2884 - accuracy: 0.0070\n",
      "Epoch 00001: val_accuracy improved from -inf to 0.00690, saving model to models\\model\n",
      "500/500 [==============================] - 171s 328ms/step - loss: 5.2884 - accuracy: 0.0070 - val_loss: 5.2699 - val_accuracy: 0.0069\n",
      "Epoch 2/20\n",
      "500/500 [==============================] - ETA: 0s - loss: 5.2232 - accuracy: 0.0136\n",
      "Epoch 00002: val_accuracy improved from 0.00690 to 0.01810, saving model to models\\model\n",
      "500/500 [==============================] - 166s 331ms/step - loss: 5.2232 - accuracy: 0.0136 - val_loss: 5.1499 - val_accuracy: 0.0181\n",
      "Epoch 3/20\n",
      "500/500 [==============================] - ETA: 0s - loss: 5.0293 - accuracy: 0.0318\n",
      "Epoch 00003: val_accuracy improved from 0.01810 to 0.04070, saving model to models\\model\n",
      "500/500 [==============================] - 162s 325ms/step - loss: 5.0293 - accuracy: 0.0318 - val_loss: 4.9311 - val_accuracy: 0.0407\n",
      "Epoch 4/20\n",
      "500/500 [==============================] - ETA: 0s - loss: 4.8430 - accuracy: 0.0514\n",
      "Epoch 00004: val_accuracy improved from 0.04070 to 0.05890, saving model to models\\model\n",
      "500/500 [==============================] - 162s 324ms/step - loss: 4.8430 - accuracy: 0.0514 - val_loss: 4.7896 - val_accuracy: 0.0589\n",
      "Epoch 5/20\n",
      "500/500 [==============================] - ETA: 0s - loss: 4.6675 - accuracy: 0.0712\n",
      "Epoch 00005: val_accuracy improved from 0.05890 to 0.07820, saving model to models\\model\n",
      "500/500 [==============================] - 162s 325ms/step - loss: 4.6675 - accuracy: 0.0712 - val_loss: 4.6016 - val_accuracy: 0.0782\n",
      "Epoch 6/20\n",
      "500/500 [==============================] - ETA: 0s - loss: 4.4651 - accuracy: 0.0966\n",
      "Epoch 00006: val_accuracy improved from 0.07820 to 0.09720, saving model to models\\model\n",
      "500/500 [==============================] - 162s 325ms/step - loss: 4.4651 - accuracy: 0.0966 - val_loss: 4.4309 - val_accuracy: 0.0972\n",
      "Epoch 7/20\n",
      "500/500 [==============================] - ETA: 0s - loss: 4.3149 - accuracy: 0.1168\n",
      "Epoch 00007: val_accuracy improved from 0.09720 to 0.11090, saving model to models\\model\n",
      "500/500 [==============================] - 160s 320ms/step - loss: 4.3149 - accuracy: 0.1168 - val_loss: 4.3166 - val_accuracy: 0.1109\n",
      "Epoch 8/20\n",
      "500/500 [==============================] - ETA: 0s - loss: 4.1907 - accuracy: 0.1340\n",
      "Epoch 00008: val_accuracy improved from 0.11090 to 0.12470, saving model to models\\model\n",
      "500/500 [==============================] - 160s 321ms/step - loss: 4.1907 - accuracy: 0.1340 - val_loss: 4.2219 - val_accuracy: 0.1247\n",
      "Epoch 9/20\n",
      "500/500 [==============================] - ETA: 0s - loss: 4.0757 - accuracy: 0.1506\n",
      "Epoch 00009: val_accuracy improved from 0.12470 to 0.13760, saving model to models\\model\n",
      "500/500 [==============================] - 161s 322ms/step - loss: 4.0757 - accuracy: 0.1506 - val_loss: 4.1355 - val_accuracy: 0.1376\n",
      "Epoch 10/20\n",
      "500/500 [==============================] - ETA: 0s - loss: 3.9681 - accuracy: 0.1662\n",
      "Epoch 00010: val_accuracy improved from 0.13760 to 0.14870, saving model to models\\model\n",
      "500/500 [==============================] - 162s 324ms/step - loss: 3.9681 - accuracy: 0.1662 - val_loss: 4.0622 - val_accuracy: 0.1487\n",
      "Epoch 11/20\n",
      "500/500 [==============================] - ETA: 0s - loss: 3.8638 - accuracy: 0.1815\n",
      "Epoch 00011: val_accuracy improved from 0.14870 to 0.15790, saving model to models\\model\n",
      "500/500 [==============================] - 166s 332ms/step - loss: 3.8638 - accuracy: 0.1815 - val_loss: 4.0046 - val_accuracy: 0.1579\n",
      "Epoch 12/20\n",
      "500/500 [==============================] - ETA: 0s - loss: 3.7629 - accuracy: 0.1963\n",
      "Epoch 00012: val_accuracy improved from 0.15790 to 0.16880, saving model to models\\model\n",
      "500/500 [==============================] - 169s 337ms/step - loss: 3.7629 - accuracy: 0.1963 - val_loss: 3.9312 - val_accuracy: 0.1688\n",
      "Epoch 13/20\n",
      "500/500 [==============================] - ETA: 0s - loss: 3.6654 - accuracy: 0.2116\n",
      "Epoch 00013: val_accuracy improved from 0.16880 to 0.17560, saving model to models\\model\n",
      "500/500 [==============================] - 162s 325ms/step - loss: 3.6654 - accuracy: 0.2116 - val_loss: 3.8864 - val_accuracy: 0.1756\n",
      "Epoch 14/20\n",
      "500/500 [==============================] - ETA: 0s - loss: 3.5724 - accuracy: 0.2265\n",
      "Epoch 00014: val_accuracy improved from 0.17560 to 0.18530, saving model to models\\model\n",
      "500/500 [==============================] - 163s 326ms/step - loss: 3.5724 - accuracy: 0.2265 - val_loss: 3.8340 - val_accuracy: 0.1853\n",
      "Epoch 15/20\n",
      "500/500 [==============================] - ETA: 0s - loss: 3.4800 - accuracy: 0.2419\n",
      "Epoch 00015: val_accuracy improved from 0.18530 to 0.19060, saving model to models\\model\n",
      "500/500 [==============================] - 163s 326ms/step - loss: 3.4800 - accuracy: 0.2419 - val_loss: 3.7986 - val_accuracy: 0.1906\n",
      "Epoch 16/20\n",
      "500/500 [==============================] - ETA: 0s - loss: 3.3870 - accuracy: 0.2575\n",
      "Epoch 00016: val_accuracy improved from 0.19060 to 0.19360, saving model to models\\model\n",
      "500/500 [==============================] - 169s 339ms/step - loss: 3.3870 - accuracy: 0.2575 - val_loss: 3.7700 - val_accuracy: 0.1936\n",
      "Epoch 17/20\n",
      "500/500 [==============================] - ETA: 0s - loss: 3.2902 - accuracy: 0.2746\n",
      "Epoch 00017: val_accuracy improved from 0.19360 to 0.20140, saving model to models\\model\n",
      "500/500 [==============================] - 162s 323ms/step - loss: 3.2902 - accuracy: 0.2746 - val_loss: 3.7330 - val_accuracy: 0.2014\n",
      "Epoch 18/20\n",
      "500/500 [==============================] - ETA: 0s - loss: 3.1969 - accuracy: 0.2923\n",
      "Epoch 00018: val_accuracy improved from 0.20140 to 0.20250, saving model to models\\model\n",
      "500/500 [==============================] - 160s 321ms/step - loss: 3.1969 - accuracy: 0.2923 - val_loss: 3.7237 - val_accuracy: 0.2025\n",
      "Epoch 19/20\n",
      "500/500 [==============================] - ETA: 0s - loss: 3.1007 - accuracy: 0.3087\n",
      "Epoch 00019: val_accuracy improved from 0.20250 to 0.20510, saving model to models\\model\n",
      "500/500 [==============================] - 160s 321ms/step - loss: 3.1007 - accuracy: 0.3087 - val_loss: 3.7213 - val_accuracy: 0.2051\n",
      "Epoch 20/20\n",
      "500/500 [==============================] - ETA: 0s - loss: 3.0052 - accuracy: 0.3259\n",
      "Epoch 00020: val_accuracy improved from 0.20510 to 0.20890, saving model to models\\model\n",
      "500/500 [==============================] - 161s 321ms/step - loss: 3.0052 - accuracy: 0.3259 - val_loss: 3.7149 - val_accuracy: 0.2089\n"
     ]
    }
   ],
   "source": [
    "epochs = 20\n",
    "\n",
    "history = model.fit(dataset_train, batch_size=bs, epochs=epochs, validation_data=dataset_test, callbacks=[model_checkpoint])"
   ]
  },
  {
   "cell_type": "code",
   "execution_count": 13,
   "metadata": {},
   "outputs": [
    {
     "data": {
      "image/png": "[encoded data removed]",
      "text/plain": [
       "<Figure size 1008x288 with 2 Axes>"
      ]
     },
     "metadata": {
      "needs_background": "light"
     },
     "output_type": "display_data"
    }
   ],
   "source": [
    "show_results(history)"
   ]
  },
  {
   "cell_type": "markdown",
   "metadata": {},
   "source": [
    "## Modelo Inception"
   ]
  },
  {
   "cell_type": "code",
   "execution_count": 37,
   "metadata": {},
   "outputs": [
    {
     "ename": "MemoryError",
     "evalue": "Unable to allocate 112. GiB for an array with shape (100000, 224, 224, 3) and data type float64",
     "output_type": "error",
     "traceback": [
      "\u001b[1;31m---------------------------------------------------------------------------\u001b[0m",
      "\u001b[1;31mMemoryError\u001b[0m                               Traceback (most recent call last)",
      "\u001b[1;32m~\\AppData\\Local\\Temp/ipykernel_18392/1947659464.py\u001b[0m in \u001b[0;36m<module>\u001b[1;34m\u001b[0m\n\u001b[0;32m      1\u001b[0m \u001b[1;32mimport\u001b[0m \u001b[0mcv2\u001b[0m\u001b[1;33m\u001b[0m\u001b[1;33m\u001b[0m\u001b[0m\n\u001b[0;32m      2\u001b[0m \u001b[0mnew_shape\u001b[0m \u001b[1;33m=\u001b[0m \u001b[1;33m(\u001b[0m\u001b[1;36m224\u001b[0m\u001b[1;33m,\u001b[0m\u001b[1;36m224\u001b[0m\u001b[1;33m,\u001b[0m\u001b[1;36m3\u001b[0m\u001b[1;33m)\u001b[0m\u001b[1;33m\u001b[0m\u001b[1;33m\u001b[0m\u001b[0m\n\u001b[1;32m----> 3\u001b[1;33m \u001b[0mX_train_new\u001b[0m \u001b[1;33m=\u001b[0m \u001b[0mnp\u001b[0m\u001b[1;33m.\u001b[0m\u001b[0mempty\u001b[0m\u001b[1;33m(\u001b[0m\u001b[0mshape\u001b[0m\u001b[1;33m=\u001b[0m\u001b[1;33m(\u001b[0m\u001b[0mX_train\u001b[0m\u001b[1;33m.\u001b[0m\u001b[0mshape\u001b[0m\u001b[1;33m[\u001b[0m\u001b[1;36m0\u001b[0m\u001b[1;33m]\u001b[0m\u001b[1;33m,\u001b[0m\u001b[1;33m)\u001b[0m\u001b[1;33m+\u001b[0m\u001b[0mnew_shape\u001b[0m\u001b[1;33m)\u001b[0m\u001b[1;33m\u001b[0m\u001b[1;33m\u001b[0m\u001b[0m\n\u001b[0m\u001b[0;32m      4\u001b[0m \u001b[1;32mfor\u001b[0m \u001b[0midx\u001b[0m \u001b[1;32min\u001b[0m \u001b[0mrange\u001b[0m\u001b[1;33m(\u001b[0m\u001b[0mX_train\u001b[0m\u001b[1;33m.\u001b[0m\u001b[0mshape\u001b[0m\u001b[1;33m[\u001b[0m\u001b[1;36m0\u001b[0m\u001b[1;33m]\u001b[0m\u001b[1;33m)\u001b[0m\u001b[1;33m:\u001b[0m\u001b[1;33m\u001b[0m\u001b[1;33m\u001b[0m\u001b[0m\n\u001b[0;32m      5\u001b[0m     \u001b[0mX_train_new\u001b[0m\u001b[1;33m[\u001b[0m\u001b[0midx\u001b[0m\u001b[1;33m]\u001b[0m \u001b[1;33m=\u001b[0m \u001b[0mcv2\u001b[0m\u001b[1;33m.\u001b[0m\u001b[0mresize\u001b[0m\u001b[1;33m(\u001b[0m\u001b[0mX_train\u001b[0m\u001b[1;33m[\u001b[0m\u001b[0midx\u001b[0m\u001b[1;33m]\u001b[0m\u001b[1;33m,\u001b[0m \u001b[0mnew_shape\u001b[0m\u001b[1;33m)\u001b[0m\u001b[1;33m\u001b[0m\u001b[1;33m\u001b[0m\u001b[0m\n",
      "\u001b[1;31mMemoryError\u001b[0m: Unable to allocate 112. GiB for an array with shape (100000, 224, 224, 3) and data type float64"
     ]
    }
   ],
   "source": [
    "\n",
    "import cv2\n",
    "new_shape = (224,224,3)\n",
    "X_train_new = np.empty(shape=(X_train.shape[0],)+new_shape)\n",
    "for idx in range(X_train.shape[0]):\n",
    "    X_train_new[idx] = cv2.resize(X_train[idx], new_shape)\n",
    "\n",
    "\n",
    "X_test_new = np.empty(shape=(X_test.shape[0],)+new_shape)\n",
    "for idx in range(X_test.shape[0]):\n",
    "    X_test_new[idx] = cv2.resize(X_test[idx], new_shape)"
   ]
  },
  {
   "cell_type": "code",
   "execution_count": 26,
   "metadata": {},
   "outputs": [],
   "source": [
    "from keras.preprocessing.image import ImageDataGenerator\n",
    "# For train and validation data\n",
    "image_gen_aug = ImageDataGenerator(                                               \n",
    "    samplewise_center=False,                                                \n",
    "    rotation_range=30,                                                     \n",
    "    width_shift_range=0.2, height_shift_range=0.2,                            \n",
    "    brightness_range=(0.5,1.5),                                             \n",
    "    shear_range=5,                                                          \n",
    "    zoom_range=0.2,                                                         \n",
    "    horizontal_flip=True,                                                    \n",
    "    fill_mode='reflect',                                                    \n",
    "    validation_split=0.1                                                  \n",
    ")\n",
    "# For the testing data (No augmentation)\n",
    "image_gen = ImageDataGenerator(samplewise_center=False)"
   ]
  },
  {
   "cell_type": "code",
   "execution_count": 27,
   "metadata": {},
   "outputs": [],
   "source": [
    "# Get training data generator\n",
    "train_gen = image_gen_aug.flow(X_train, Y_train, batch_size=100)\n",
    "# Get valid data generator\n",
    "valid_gen = image_gen_aug.flow(X_test, Y_test, batch_size=100)\n",
    "# Get test data generator\n",
    "#test_gen = image_gen.flow(...)"
   ]
  },
  {
   "cell_type": "code",
   "execution_count": 28,
   "metadata": {},
   "outputs": [],
   "source": [
    "def data_gen_augmented(gen, random_gamma=False, random_occlude=False):\n",
    "    for x,y in gen: \n",
    "        if random_gamma:\n",
    "            # Gamma correction\n",
    "            # Doing this in the image process fn doesn't help improve performance\n",
    "            rand_gamma = np.random.uniform(0.9, 1.08, (x.shape[0],1,1,1))\n",
    "            x = x**rand_gamma\n",
    "            \n",
    "        if random_occlude:\n",
    "            # Randomly occluding sections in the image\n",
    "            occ_size = 10\n",
    "            occ_h, occ_w = np.random.randint(0, x.shape[0]-occ_size), np.random.randint(0, x.shape[0]-occ_size)\n",
    "            x[::2,occ_h:occ_h+occ_size,occ_w:occ_w+occ_size,:] = np.random.choice([0.,128.,255.])\n",
    "        \n",
    "        # Image centering\n",
    "        x -= np.mean(x, axis=(1,2,3), keepdims=True)\n",
    "        \n",
    "        # Making sure we replicate the target (y) three times\n",
    "        yield x,(y,y,y)"
   ]
  },
  {
   "cell_type": "code",
   "execution_count": 33,
   "metadata": {},
   "outputs": [],
   "source": [
    "train_gen_aux = data_gen_augmented(train_gen, random_gamma=True, random_occlude=True)\n",
    "# We do not augment data in the validation/test datasets\n",
    "valid_gen_aux = data_gen_augmented(valid_gen)\n",
    "#test_gen_aux = data_gen_augmented(test_gen)"
   ]
  },
  {
   "cell_type": "code",
   "execution_count": 36,
   "metadata": {},
   "outputs": [
    {
     "name": "stdout",
     "output_type": "stream",
     "text": [
      "Model: \"sequential\"\n",
      "_________________________________________________________________\n",
      " Layer (type)                Output Shape              Param #   \n",
      "=================================================================\n",
      " inception_resnet_v2 (Functi  (None, 1536)             54336736  \n",
      " onal)                                                           \n",
      "                                                                 \n",
      " dropout (Dropout)           (None, 1536)              0         \n",
      "                                                                 \n",
      " dense (Dense)               (None, 200)               307400    \n",
      "                                                                 \n",
      "=================================================================\n",
      "Total params: 54,644,136\n",
      "Trainable params: 54,583,592\n",
      "Non-trainable params: 60,544\n",
      "_________________________________________________________________\n"
     ]
    }
   ],
   "source": [
    "from tensorflow.keras.applications import InceptionResNetV2\n",
    "from tensorflow.keras.models import Sequential\n",
    "from tensorflow.keras.layers import Input, Dense, Dropout\n",
    "\n",
    "K.clear_session()\n",
    "# We're going to download the InceptionResNetv2 model, remove the top layer and wrap it around an input layer and a prediction layer (with 200 classes)\n",
    "model = Sequential([\n",
    "    Input(shape=(224,224,3)),\n",
    "    InceptionResNetV2(include_top=False, pooling='avg'),\n",
    "    Dropout(0.4),\n",
    "    Dense(200, activation='softmax')\n",
    "])\n",
    "# Defining the loss\n",
    "loss = tf.keras.losses.CategoricalCrossentropy()\n",
    "# Defining the optimizer\n",
    "adam = tf.keras.optimizers.Adam(learning_rate=0.0001)\n",
    "# Compiling the model\n",
    "model.compile(loss=loss, optimizer=adam, metrics=['accuracy'])\n",
    "model.summary()"
   ]
  },
  {
   "cell_type": "code",
   "execution_count": 34,
   "metadata": {},
   "outputs": [
    {
     "name": "stdout",
     "output_type": "stream",
     "text": [
      "Epoch 1/50\n"
     ]
    },
    {
     "ename": "AttributeError",
     "evalue": "in user code:\n\n    File \"C:\\Users\\DAVID\\anaconda3\\lib\\site-packages\\keras\\engine\\training.py\", line 878, in train_function  *\n        return step_function(self, iterator)\n    File \"C:\\Users\\DAVID\\anaconda3\\lib\\site-packages\\keras\\engine\\training.py\", line 867, in step_function  **\n        outputs = model.distribute_strategy.run(run_step, args=(data,))\n    File \"C:\\Users\\DAVID\\anaconda3\\lib\\site-packages\\keras\\engine\\training.py\", line 860, in run_step  **\n        outputs = model.train_step(data)\n    File \"C:\\Users\\DAVID\\anaconda3\\lib\\site-packages\\keras\\engine\\training.py\", line 817, in train_step\n        self.compiled_metrics.update_state(y, y_pred, sample_weight)\n    File \"C:\\Users\\DAVID\\anaconda3\\lib\\site-packages\\keras\\engine\\compile_utils.py\", line 439, in update_state\n        self.build(y_pred, y_true)\n    File \"C:\\Users\\DAVID\\anaconda3\\lib\\site-packages\\keras\\engine\\compile_utils.py\", line 359, in build\n        self._metrics = tf.__internal__.nest.map_structure_up_to(y_pred, self._get_metric_objects,\n    File \"C:\\Users\\DAVID\\anaconda3\\lib\\site-packages\\keras\\engine\\compile_utils.py\", line 485, in _get_metric_objects\n        return [self._get_metric_object(m, y_t, y_p) for m in metrics]\n    File \"C:\\Users\\DAVID\\anaconda3\\lib\\site-packages\\keras\\engine\\compile_utils.py\", line 485, in <listcomp>\n        return [self._get_metric_object(m, y_t, y_p) for m in metrics]\n    File \"C:\\Users\\DAVID\\anaconda3\\lib\\site-packages\\keras\\engine\\compile_utils.py\", line 506, in _get_metric_object\n        y_t_rank = len(y_t.shape.as_list())\n\n    AttributeError: 'tuple' object has no attribute 'shape'\n",
     "output_type": "error",
     "traceback": [
      "\u001b[1;31m---------------------------------------------------------------------------\u001b[0m",
      "\u001b[1;31mAttributeError\u001b[0m                            Traceback (most recent call last)",
      "\u001b[1;32m~\\AppData\\Local\\Temp/ipykernel_18392/2525011517.py\u001b[0m in \u001b[0;36m<module>\u001b[1;34m\u001b[0m\n\u001b[0;32m      9\u001b[0m )\n\u001b[0;32m     10\u001b[0m \u001b[1;31m# Training the model\u001b[0m\u001b[1;33m\u001b[0m\u001b[1;33m\u001b[0m\u001b[0m\n\u001b[1;32m---> 11\u001b[1;33m history = model.fit(\n\u001b[0m\u001b[0;32m     12\u001b[0m     \u001b[0mtrain_gen_aux\u001b[0m\u001b[1;33m,\u001b[0m\u001b[1;33m\u001b[0m\u001b[1;33m\u001b[0m\u001b[0m\n\u001b[0;32m     13\u001b[0m     \u001b[0mvalidation_data\u001b[0m\u001b[1;33m=\u001b[0m\u001b[0mvalid_gen_aux\u001b[0m\u001b[1;33m,\u001b[0m\u001b[1;33m\u001b[0m\u001b[1;33m\u001b[0m\u001b[0m\n",
      "\u001b[1;32m~\\anaconda3\\lib\\site-packages\\keras\\utils\\traceback_utils.py\u001b[0m in \u001b[0;36merror_handler\u001b[1;34m(*args, **kwargs)\u001b[0m\n\u001b[0;32m     65\u001b[0m     \u001b[1;32mexcept\u001b[0m \u001b[0mException\u001b[0m \u001b[1;32mas\u001b[0m \u001b[0me\u001b[0m\u001b[1;33m:\u001b[0m  \u001b[1;31m# pylint: disable=broad-except\u001b[0m\u001b[1;33m\u001b[0m\u001b[1;33m\u001b[0m\u001b[0m\n\u001b[0;32m     66\u001b[0m       \u001b[0mfiltered_tb\u001b[0m \u001b[1;33m=\u001b[0m \u001b[0m_process_traceback_frames\u001b[0m\u001b[1;33m(\u001b[0m\u001b[0me\u001b[0m\u001b[1;33m.\u001b[0m\u001b[0m__traceback__\u001b[0m\u001b[1;33m)\u001b[0m\u001b[1;33m\u001b[0m\u001b[1;33m\u001b[0m\u001b[0m\n\u001b[1;32m---> 67\u001b[1;33m       \u001b[1;32mraise\u001b[0m \u001b[0me\u001b[0m\u001b[1;33m.\u001b[0m\u001b[0mwith_traceback\u001b[0m\u001b[1;33m(\u001b[0m\u001b[0mfiltered_tb\u001b[0m\u001b[1;33m)\u001b[0m \u001b[1;32mfrom\u001b[0m \u001b[1;32mNone\u001b[0m\u001b[1;33m\u001b[0m\u001b[1;33m\u001b[0m\u001b[0m\n\u001b[0m\u001b[0;32m     68\u001b[0m     \u001b[1;32mfinally\u001b[0m\u001b[1;33m:\u001b[0m\u001b[1;33m\u001b[0m\u001b[1;33m\u001b[0m\u001b[0m\n\u001b[0;32m     69\u001b[0m       \u001b[1;32mdel\u001b[0m \u001b[0mfiltered_tb\u001b[0m\u001b[1;33m\u001b[0m\u001b[1;33m\u001b[0m\u001b[0m\n",
      "\u001b[1;32m~\\anaconda3\\lib\\site-packages\\tensorflow\\python\\framework\\func_graph.py\u001b[0m in \u001b[0;36mautograph_handler\u001b[1;34m(*args, **kwargs)\u001b[0m\n\u001b[0;32m   1127\u001b[0m           \u001b[1;32mexcept\u001b[0m \u001b[0mException\u001b[0m \u001b[1;32mas\u001b[0m \u001b[0me\u001b[0m\u001b[1;33m:\u001b[0m  \u001b[1;31m# pylint:disable=broad-except\u001b[0m\u001b[1;33m\u001b[0m\u001b[1;33m\u001b[0m\u001b[0m\n\u001b[0;32m   1128\u001b[0m             \u001b[1;32mif\u001b[0m \u001b[0mhasattr\u001b[0m\u001b[1;33m(\u001b[0m\u001b[0me\u001b[0m\u001b[1;33m,\u001b[0m \u001b[1;34m\"ag_error_metadata\"\u001b[0m\u001b[1;33m)\u001b[0m\u001b[1;33m:\u001b[0m\u001b[1;33m\u001b[0m\u001b[1;33m\u001b[0m\u001b[0m\n\u001b[1;32m-> 1129\u001b[1;33m               \u001b[1;32mraise\u001b[0m \u001b[0me\u001b[0m\u001b[1;33m.\u001b[0m\u001b[0mag_error_metadata\u001b[0m\u001b[1;33m.\u001b[0m\u001b[0mto_exception\u001b[0m\u001b[1;33m(\u001b[0m\u001b[0me\u001b[0m\u001b[1;33m)\u001b[0m\u001b[1;33m\u001b[0m\u001b[1;33m\u001b[0m\u001b[0m\n\u001b[0m\u001b[0;32m   1130\u001b[0m             \u001b[1;32melse\u001b[0m\u001b[1;33m:\u001b[0m\u001b[1;33m\u001b[0m\u001b[1;33m\u001b[0m\u001b[0m\n\u001b[0;32m   1131\u001b[0m               \u001b[1;32mraise\u001b[0m\u001b[1;33m\u001b[0m\u001b[1;33m\u001b[0m\u001b[0m\n",
      "\u001b[1;31mAttributeError\u001b[0m: in user code:\n\n    File \"C:\\Users\\DAVID\\anaconda3\\lib\\site-packages\\keras\\engine\\training.py\", line 878, in train_function  *\n        return step_function(self, iterator)\n    File \"C:\\Users\\DAVID\\anaconda3\\lib\\site-packages\\keras\\engine\\training.py\", line 867, in step_function  **\n        outputs = model.distribute_strategy.run(run_step, args=(data,))\n    File \"C:\\Users\\DAVID\\anaconda3\\lib\\site-packages\\keras\\engine\\training.py\", line 860, in run_step  **\n        outputs = model.train_step(data)\n    File \"C:\\Users\\DAVID\\anaconda3\\lib\\site-packages\\keras\\engine\\training.py\", line 817, in train_step\n        self.compiled_metrics.update_state(y, y_pred, sample_weight)\n    File \"C:\\Users\\DAVID\\anaconda3\\lib\\site-packages\\keras\\engine\\compile_utils.py\", line 439, in update_state\n        self.build(y_pred, y_true)\n    File \"C:\\Users\\DAVID\\anaconda3\\lib\\site-packages\\keras\\engine\\compile_utils.py\", line 359, in build\n        self._metrics = tf.__internal__.nest.map_structure_up_to(y_pred, self._get_metric_objects,\n    File \"C:\\Users\\DAVID\\anaconda3\\lib\\site-packages\\keras\\engine\\compile_utils.py\", line 485, in _get_metric_objects\n        return [self._get_metric_object(m, y_t, y_p) for m in metrics]\n    File \"C:\\Users\\DAVID\\anaconda3\\lib\\site-packages\\keras\\engine\\compile_utils.py\", line 485, in <listcomp>\n        return [self._get_metric_object(m, y_t, y_p) for m in metrics]\n    File \"C:\\Users\\DAVID\\anaconda3\\lib\\site-packages\\keras\\engine\\compile_utils.py\", line 506, in _get_metric_object\n        y_t_rank = len(y_t.shape.as_list())\n\n    AttributeError: 'tuple' object has no attribute 'shape'\n"
     ]
    }
   ],
   "source": [
    "from tensorflow.keras.callbacks import EarlyStopping, CSVLogger, ReduceLROnPlateau\n",
    "# Defining callbacks\n",
    "es_callback = EarlyStopping(monitor='val_loss', patience=10)\n",
    "csv_logger = CSVLogger(os.path.join('eval','4_eval_resnet_pretrained.log'))\n",
    "n_epochs=50\n",
    "batch_size = 100\n",
    "lr_callback = ReduceLROnPlateau(\n",
    "    monitor='val_loss', factor=0.1, patience=5, verbose=1, mode='auto'\n",
    ")\n",
    "# Training the model\n",
    "history = model.fit(\n",
    "    train_gen_aux, \n",
    "    validation_data=valid_gen_aux, \n",
    "    steps_per_epoch=X_train.shape[0] // batch_size, \n",
    "    epochs=n_epochs, \n",
    "    callbacks=[es_callback, csv_logger, lr_callback]\n",
    ")"
   ]
  }
 ],
 "metadata": {
  "interpreter": {
   "hash": "6e076b56c7058fe20ecfcc311ef0c7a4c55ddb853ffaea1265e112a7471bdb30"
  },
  "kernelspec": {
   "display_name": "Python 3.9.7 64-bit (conda)",
   "language": "python",
   "name": "python3"
  },
  "language_info": {
   "codemirror_mode": {
    "name": "ipython",
    "version": 3
   },
   "file_extension": ".py",
   "mimetype": "text/x-python",
   "name": "python",
   "nbconvert_exporter": "python",
   "pygments_lexer": "ipython3",
   "version": "3.9.7"
  },
  "orig_nbformat": 4
 },
 "nbformat": 4,
 "nbformat_minor": 2
}
